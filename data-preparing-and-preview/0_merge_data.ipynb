{
 "cells": [
  {
   "cell_type": "code",
   "execution_count": 130,
   "id": "09b4e301",
   "metadata": {},
   "outputs": [],
   "source": [
    "import os\n",
    "import pandas as pd\n",
    "import glob"
   ]
  },
  {
   "cell_type": "code",
   "execution_count": 131,
   "id": "d076df7c",
   "metadata": {},
   "outputs": [],
   "source": [
    "DIALOGS_DATA_PATH = \"../data/dialogs\"\n",
    "DIALOGS_META_DATA_PATH = \"../data/dialogs_meta\"\n",
    "\n",
    "MERGED_DATA_PATH = \"../data/merged_data\""
   ]
  },
  {
   "cell_type": "code",
   "execution_count": 132,
   "id": "65a13565",
   "metadata": {},
   "outputs": [],
   "source": [
    "!cd ../data/"
   ]
  },
  {
   "cell_type": "code",
   "execution_count": 133,
   "id": "6d0eddab",
   "metadata": {},
   "outputs": [],
   "source": [
    "dialogs_data_files = glob.glob(f\"{DIALOGS_DATA_PATH}/*.csv\")\n",
    "dialogs_meta_data_files = glob.glob(f\"{DIALOGS_META_DATA_PATH}/*.json\")"
   ]
  },
  {
   "cell_type": "markdown",
   "id": "78cc73b6",
   "metadata": {},
   "source": [
    "## merging all dialogs_data (csv files) into one"
   ]
  },
  {
   "cell_type": "code",
   "execution_count": 134,
   "id": "4d582c3b",
   "metadata": {},
   "outputs": [],
   "source": [
    "df_array = []\n",
    "\n",
    "for d in dialogs_data_files:\n",
    "    local_df = pd.read_csv(d)\n",
    "    local_df[\"dialog_id\"] = os.path.basename(d).split(\".\")[0]\n",
    "    \n",
    "    df_array.append(local_df)\n",
    "    \n",
    "df = pd.concat(df_array, ignore_index=True)"
   ]
  },
  {
   "cell_type": "code",
   "execution_count": 135,
   "id": "4d83eb47",
   "metadata": {},
   "outputs": [
    {
     "data": {
      "text/plain": [
       "(2050459, 11)"
      ]
     },
     "execution_count": 135,
     "metadata": {},
     "output_type": "execute_result"
    }
   ],
   "source": [
    "df.shape"
   ]
  },
  {
   "cell_type": "code",
   "execution_count": 136,
   "id": "96e470a8",
   "metadata": {},
   "outputs": [],
   "source": [
    "if not os.path.isdir(MERGED_DATA_PATH):\n",
    "    os.mkdir(MERGED_DATA_PATH)\n",
    "\n",
    "if \"Unnamed: 0\" in df:\n",
    "    df = df.drop([\"Unnamed: 0\"], axis=True)\n",
    "    \n",
    "df.to_csv(f\"{MERGED_DATA_PATH}/dialogs_data_all.csv\", index=False)"
   ]
  },
  {
   "cell_type": "code",
   "execution_count": 137,
   "id": "16776850",
   "metadata": {},
   "outputs": [
    {
     "data": {
      "text/plain": [
       "(2050459, 10)"
      ]
     },
     "execution_count": 137,
     "metadata": {},
     "output_type": "execute_result"
    }
   ],
   "source": [
    "df.shape"
   ]
  },
  {
   "cell_type": "code",
   "execution_count": 138,
   "id": "4672e8ce",
   "metadata": {},
   "outputs": [
    {
     "data": {
      "text/html": [
       "<div>\n",
       "<style scoped>\n",
       "    .dataframe tbody tr th:only-of-type {\n",
       "        vertical-align: middle;\n",
       "    }\n",
       "\n",
       "    .dataframe tbody tr th {\n",
       "        vertical-align: top;\n",
       "    }\n",
       "\n",
       "    .dataframe thead th {\n",
       "        text-align: right;\n",
       "    }\n",
       "</style>\n",
       "<table border=\"1\" class=\"dataframe\">\n",
       "  <thead>\n",
       "    <tr style=\"text-align: right;\">\n",
       "      <th></th>\n",
       "      <th>id</th>\n",
       "      <th>date</th>\n",
       "      <th>from_id</th>\n",
       "      <th>to_id</th>\n",
       "      <th>fwd_from</th>\n",
       "      <th>message</th>\n",
       "      <th>type</th>\n",
       "      <th>duration</th>\n",
       "      <th>dialog_id</th>\n",
       "      <th>reactions</th>\n",
       "    </tr>\n",
       "  </thead>\n",
       "  <tbody>\n",
       "    <tr>\n",
       "      <th>0</th>\n",
       "      <td>699122</td>\n",
       "      <td>2022-10-19 08:29:36+00:00</td>\n",
       "      <td>PeerUser(user_id=962137152)</td>\n",
       "      <td>PeerChannel(channel_id=1124109395)</td>\n",
       "      <td>NaN</td>\n",
       "      <td>NaN</td>\n",
       "      <td>text</td>\n",
       "      <td>NaN</td>\n",
       "      <td>-1001124109395</td>\n",
       "      <td>NaN</td>\n",
       "    </tr>\n",
       "    <tr>\n",
       "      <th>1</th>\n",
       "      <td>699121</td>\n",
       "      <td>2022-10-19 08:29:35+00:00</td>\n",
       "      <td>PeerUser(user_id=962137152)</td>\n",
       "      <td>PeerChannel(channel_id=1124109395)</td>\n",
       "      <td>NaN</td>\n",
       "      <td>Поточний етап у САЗ: Запис-2 (дозапис/корекція...</td>\n",
       "      <td>text</td>\n",
       "      <td>NaN</td>\n",
       "      <td>-1001124109395</td>\n",
       "      <td>NaN</td>\n",
       "    </tr>\n",
       "    <tr>\n",
       "      <th>2</th>\n",
       "      <td>699120</td>\n",
       "      <td>2022-10-14 11:46:37+00:00</td>\n",
       "      <td>PeerUser(user_id=255144521)</td>\n",
       "      <td>PeerChannel(channel_id=1124109395)</td>\n",
       "      <td>NaN</td>\n",
       "      <td>NaN</td>\n",
       "      <td>text</td>\n",
       "      <td>NaN</td>\n",
       "      <td>-1001124109395</td>\n",
       "      <td>NaN</td>\n",
       "    </tr>\n",
       "    <tr>\n",
       "      <th>3</th>\n",
       "      <td>699119</td>\n",
       "      <td>2022-10-14 11:46:34+00:00</td>\n",
       "      <td>PeerUser(user_id=255144521)</td>\n",
       "      <td>PeerChannel(channel_id=1124109395)</td>\n",
       "      <td>MessageFwdHeader(date=datetime.datetime(2022, ...</td>\n",
       "      <td>🗳 Вибори до Студентської колегії ХХІІ скликанн...</td>\n",
       "      <td>photo</td>\n",
       "      <td>NaN</td>\n",
       "      <td>-1001124109395</td>\n",
       "      <td>NaN</td>\n",
       "    </tr>\n",
       "    <tr>\n",
       "      <th>4</th>\n",
       "      <td>699118</td>\n",
       "      <td>2022-10-10 14:05:28+00:00</td>\n",
       "      <td>PeerUser(user_id=962137152)</td>\n",
       "      <td>PeerChannel(channel_id=1124109395)</td>\n",
       "      <td>NaN</td>\n",
       "      <td>Дубіна Ярослава Анатоліївна надсилає сповіщенн...</td>\n",
       "      <td>text</td>\n",
       "      <td>NaN</td>\n",
       "      <td>-1001124109395</td>\n",
       "      <td>NaN</td>\n",
       "    </tr>\n",
       "    <tr>\n",
       "      <th>5</th>\n",
       "      <td>699117</td>\n",
       "      <td>2022-10-04 11:05:10+00:00</td>\n",
       "      <td>PeerUser(user_id=962137152)</td>\n",
       "      <td>PeerChannel(channel_id=1124109395)</td>\n",
       "      <td>NaN</td>\n",
       "      <td>Дубіна Ярослава Анатоліївна надсилає сповіщенн...</td>\n",
       "      <td>text</td>\n",
       "      <td>NaN</td>\n",
       "      <td>-1001124109395</td>\n",
       "      <td>NaN</td>\n",
       "    </tr>\n",
       "    <tr>\n",
       "      <th>6</th>\n",
       "      <td>699116</td>\n",
       "      <td>2022-10-01 15:25:57+00:00</td>\n",
       "      <td>PeerUser(user_id=962137152)</td>\n",
       "      <td>PeerChannel(channel_id=1124109395)</td>\n",
       "      <td>NaN</td>\n",
       "      <td>Дубіна Ярослава Анатоліївна надсилає сповіщенн...</td>\n",
       "      <td>text</td>\n",
       "      <td>NaN</td>\n",
       "      <td>-1001124109395</td>\n",
       "      <td>NaN</td>\n",
       "    </tr>\n",
       "    <tr>\n",
       "      <th>7</th>\n",
       "      <td>699115</td>\n",
       "      <td>2022-09-29 05:32:56+00:00</td>\n",
       "      <td>PeerUser(user_id=962137152)</td>\n",
       "      <td>PeerChannel(channel_id=1124109395)</td>\n",
       "      <td>NaN</td>\n",
       "      <td>Дубіна Ярослава Анатоліївна надсилає сповіщенн...</td>\n",
       "      <td>text</td>\n",
       "      <td>NaN</td>\n",
       "      <td>-1001124109395</td>\n",
       "      <td>NaN</td>\n",
       "    </tr>\n",
       "    <tr>\n",
       "      <th>8</th>\n",
       "      <td>699114</td>\n",
       "      <td>2022-09-26 10:12:03+00:00</td>\n",
       "      <td>PeerUser(user_id=962137152)</td>\n",
       "      <td>PeerChannel(channel_id=1124109395)</td>\n",
       "      <td>NaN</td>\n",
       "      <td>NaN</td>\n",
       "      <td>text</td>\n",
       "      <td>NaN</td>\n",
       "      <td>-1001124109395</td>\n",
       "      <td>NaN</td>\n",
       "    </tr>\n",
       "    <tr>\n",
       "      <th>9</th>\n",
       "      <td>699113</td>\n",
       "      <td>2022-09-26 10:12:03+00:00</td>\n",
       "      <td>PeerUser(user_id=962137152)</td>\n",
       "      <td>PeerChannel(channel_id=1124109395)</td>\n",
       "      <td>NaN</td>\n",
       "      <td>Поточний етап у САЗ: Семестрова корекція закін...</td>\n",
       "      <td>text</td>\n",
       "      <td>NaN</td>\n",
       "      <td>-1001124109395</td>\n",
       "      <td>NaN</td>\n",
       "    </tr>\n",
       "  </tbody>\n",
       "</table>\n",
       "</div>"
      ],
      "text/plain": [
       "       id                       date                      from_id  \\\n",
       "0  699122  2022-10-19 08:29:36+00:00  PeerUser(user_id=962137152)   \n",
       "1  699121  2022-10-19 08:29:35+00:00  PeerUser(user_id=962137152)   \n",
       "2  699120  2022-10-14 11:46:37+00:00  PeerUser(user_id=255144521)   \n",
       "3  699119  2022-10-14 11:46:34+00:00  PeerUser(user_id=255144521)   \n",
       "4  699118  2022-10-10 14:05:28+00:00  PeerUser(user_id=962137152)   \n",
       "5  699117  2022-10-04 11:05:10+00:00  PeerUser(user_id=962137152)   \n",
       "6  699116  2022-10-01 15:25:57+00:00  PeerUser(user_id=962137152)   \n",
       "7  699115  2022-09-29 05:32:56+00:00  PeerUser(user_id=962137152)   \n",
       "8  699114  2022-09-26 10:12:03+00:00  PeerUser(user_id=962137152)   \n",
       "9  699113  2022-09-26 10:12:03+00:00  PeerUser(user_id=962137152)   \n",
       "\n",
       "                                to_id  \\\n",
       "0  PeerChannel(channel_id=1124109395)   \n",
       "1  PeerChannel(channel_id=1124109395)   \n",
       "2  PeerChannel(channel_id=1124109395)   \n",
       "3  PeerChannel(channel_id=1124109395)   \n",
       "4  PeerChannel(channel_id=1124109395)   \n",
       "5  PeerChannel(channel_id=1124109395)   \n",
       "6  PeerChannel(channel_id=1124109395)   \n",
       "7  PeerChannel(channel_id=1124109395)   \n",
       "8  PeerChannel(channel_id=1124109395)   \n",
       "9  PeerChannel(channel_id=1124109395)   \n",
       "\n",
       "                                            fwd_from  \\\n",
       "0                                                NaN   \n",
       "1                                                NaN   \n",
       "2                                                NaN   \n",
       "3  MessageFwdHeader(date=datetime.datetime(2022, ...   \n",
       "4                                                NaN   \n",
       "5                                                NaN   \n",
       "6                                                NaN   \n",
       "7                                                NaN   \n",
       "8                                                NaN   \n",
       "9                                                NaN   \n",
       "\n",
       "                                             message   type  duration  \\\n",
       "0                                                NaN   text       NaN   \n",
       "1  Поточний етап у САЗ: Запис-2 (дозапис/корекція...   text       NaN   \n",
       "2                                                NaN   text       NaN   \n",
       "3  🗳 Вибори до Студентської колегії ХХІІ скликанн...  photo       NaN   \n",
       "4  Дубіна Ярослава Анатоліївна надсилає сповіщенн...   text       NaN   \n",
       "5  Дубіна Ярослава Анатоліївна надсилає сповіщенн...   text       NaN   \n",
       "6  Дубіна Ярослава Анатоліївна надсилає сповіщенн...   text       NaN   \n",
       "7  Дубіна Ярослава Анатоліївна надсилає сповіщенн...   text       NaN   \n",
       "8                                                NaN   text       NaN   \n",
       "9  Поточний етап у САЗ: Семестрова корекція закін...   text       NaN   \n",
       "\n",
       "        dialog_id reactions  \n",
       "0  -1001124109395       NaN  \n",
       "1  -1001124109395       NaN  \n",
       "2  -1001124109395       NaN  \n",
       "3  -1001124109395       NaN  \n",
       "4  -1001124109395       NaN  \n",
       "5  -1001124109395       NaN  \n",
       "6  -1001124109395       NaN  \n",
       "7  -1001124109395       NaN  \n",
       "8  -1001124109395       NaN  \n",
       "9  -1001124109395       NaN  "
      ]
     },
     "execution_count": 138,
     "metadata": {},
     "output_type": "execute_result"
    }
   ],
   "source": [
    "df.head(10)"
   ]
  },
  {
   "cell_type": "code",
   "execution_count": 139,
   "id": "d1bd96f3",
   "metadata": {},
   "outputs": [
    {
     "data": {
      "text/plain": [
       "('2017-05-17 15:57:10+00:00', '2022-11-08 09:57:15+00:00')"
      ]
     },
     "execution_count": 139,
     "metadata": {},
     "output_type": "execute_result"
    }
   ],
   "source": [
    "min(df[\"date\"]),max(df[\"date\"])"
   ]
  },
  {
   "cell_type": "code",
   "execution_count": 140,
   "id": "2a1aafab",
   "metadata": {},
   "outputs": [
    {
     "data": {
      "text/plain": [
       "type\n",
       "photo       161094\n",
       "sticker      53129\n",
       "text       1749438\n",
       "video        43091\n",
       "voice        43707\n",
       "Name: type, dtype: int64"
      ]
     },
     "execution_count": 140,
     "metadata": {},
     "output_type": "execute_result"
    }
   ],
   "source": [
    "df.groupby([\"type\"])[\"type\"].count()"
   ]
  },
  {
   "cell_type": "code",
   "execution_count": 141,
   "id": "66a677a9",
   "metadata": {},
   "outputs": [
    {
     "data": {
      "text/plain": [
       "type\n",
       "photo            0.0\n",
       "sticker          0.0\n",
       "text             0.0\n",
       "video      2429009.0\n",
       "voice       966708.0\n",
       "Name: duration, dtype: float64"
      ]
     },
     "execution_count": 141,
     "metadata": {},
     "output_type": "execute_result"
    }
   ],
   "source": [
    "df.groupby([\"type\"])[\"duration\"].sum()"
   ]
  },
  {
   "cell_type": "markdown",
   "id": "e24460df",
   "metadata": {},
   "source": [
    "## merging all dialogs_meta_data (json files) into one"
   ]
  },
  {
   "cell_type": "code",
   "execution_count": 142,
   "id": "30e0b730",
   "metadata": {},
   "outputs": [],
   "source": [
    "#merge all provided meta data\n",
    "\n",
    "df1_array = []\n",
    "\n",
    "for d in dialogs_meta_data_files:\n",
    "    local_df = pd.read_json(d)\n",
    "    local_df = local_df.rename({'id': 'dialog_id'}, axis=1)\n",
    "    df1_array.append(local_df)\n",
    "    \n",
    "df1_meta = pd.concat(df1_array, ignore_index=True)"
   ]
  },
  {
   "cell_type": "code",
   "execution_count": 143,
   "id": "3cecdc78",
   "metadata": {},
   "outputs": [],
   "source": [
    "#exclude meta data of chats with no downloaded messages\n",
    "\n",
    "df2_array = []\n",
    "\n",
    "for d in dialogs_meta_data_files:\n",
    "    local_df = pd.read_json(d)\n",
    "    local_df = local_df.rename({'id': 'dialog_id'}, axis=1)\n",
    "    if(not local_df.empty):\n",
    "        id = local_df.iat[0,0]\n",
    "        if str(id) in set(df[\"dialog_id\"]):\n",
    "            df2_array.append(local_df)\n",
    "    \n",
    "df2_meta = pd.concat(df2_array, ignore_index=True)"
   ]
  },
  {
   "cell_type": "code",
   "execution_count": 144,
   "id": "6b458ce5",
   "metadata": {},
   "outputs": [],
   "source": [
    "df1_meta.to_csv(f\"{MERGED_DATA_PATH}/all_meta_data.csv\", index=False)\n",
    "df2_meta.to_csv(f\"{MERGED_DATA_PATH}/dialogs_users_all.csv\", index=False)"
   ]
  },
  {
   "cell_type": "code",
   "execution_count": 145,
   "id": "313b23f0",
   "metadata": {},
   "outputs": [
    {
     "data": {
      "text/plain": [
       "(13791, 4)"
      ]
     },
     "execution_count": 145,
     "metadata": {},
     "output_type": "execute_result"
    }
   ],
   "source": [
    "df2_meta.shape"
   ]
  },
  {
   "cell_type": "code",
   "execution_count": 146,
   "id": "ef6f51b9",
   "metadata": {},
   "outputs": [
    {
     "data": {
      "text/html": [
       "<div>\n",
       "<style scoped>\n",
       "    .dataframe tbody tr th:only-of-type {\n",
       "        vertical-align: middle;\n",
       "    }\n",
       "\n",
       "    .dataframe tbody tr th {\n",
       "        vertical-align: top;\n",
       "    }\n",
       "\n",
       "    .dataframe thead th {\n",
       "        text-align: right;\n",
       "    }\n",
       "</style>\n",
       "<table border=\"1\" class=\"dataframe\">\n",
       "  <thead>\n",
       "    <tr style=\"text-align: right;\">\n",
       "      <th></th>\n",
       "      <th>dialog_id</th>\n",
       "      <th>name</th>\n",
       "      <th>type</th>\n",
       "      <th>users</th>\n",
       "    </tr>\n",
       "  </thead>\n",
       "  <tbody>\n",
       "    <tr>\n",
       "      <th>0</th>\n",
       "      <td>-1001124109395</td>\n",
       "      <td>Філіал КМЦ</td>\n",
       "      <td>Group</td>\n",
       "      <td>{'user_id': 350500073, 'first_name': 'Пєтя кн-...</td>\n",
       "    </tr>\n",
       "    <tr>\n",
       "      <th>1</th>\n",
       "      <td>-1001124109395</td>\n",
       "      <td>Філіал КМЦ</td>\n",
       "      <td>Group</td>\n",
       "      <td>{'user_id': 346039675, 'first_name': 'Sofia', ...</td>\n",
       "    </tr>\n",
       "    <tr>\n",
       "      <th>2</th>\n",
       "      <td>-1001124109395</td>\n",
       "      <td>Філіал КМЦ</td>\n",
       "      <td>Group</td>\n",
       "      <td>{'user_id': 362602841, 'first_name': 'Даша', '...</td>\n",
       "    </tr>\n",
       "    <tr>\n",
       "      <th>3</th>\n",
       "      <td>-1001124109395</td>\n",
       "      <td>Філіал КМЦ</td>\n",
       "      <td>Group</td>\n",
       "      <td>{'user_id': 381081723, 'first_name': 'Антон', ...</td>\n",
       "    </tr>\n",
       "    <tr>\n",
       "      <th>4</th>\n",
       "      <td>-1001124109395</td>\n",
       "      <td>Філіал КМЦ</td>\n",
       "      <td>Group</td>\n",
       "      <td>{'user_id': 691654799, 'first_name': 'Іруся!',...</td>\n",
       "    </tr>\n",
       "    <tr>\n",
       "      <th>...</th>\n",
       "      <td>...</td>\n",
       "      <td>...</td>\n",
       "      <td>...</td>\n",
       "      <td>...</td>\n",
       "    </tr>\n",
       "    <tr>\n",
       "      <th>95</th>\n",
       "      <td>-1001124109395</td>\n",
       "      <td>Філіал КМЦ</td>\n",
       "      <td>Group</td>\n",
       "      <td>{'user_id': 424033713, 'first_name': 'Sofiia',...</td>\n",
       "    </tr>\n",
       "    <tr>\n",
       "      <th>96</th>\n",
       "      <td>-1001124109395</td>\n",
       "      <td>Філіал КМЦ</td>\n",
       "      <td>Group</td>\n",
       "      <td>{'user_id': 578090273, 'first_name': 'Katherin...</td>\n",
       "    </tr>\n",
       "    <tr>\n",
       "      <th>97</th>\n",
       "      <td>-1001124109395</td>\n",
       "      <td>Філіал КМЦ</td>\n",
       "      <td>Group</td>\n",
       "      <td>{'user_id': 420470026, 'first_name': 'Никита',...</td>\n",
       "    </tr>\n",
       "    <tr>\n",
       "      <th>98</th>\n",
       "      <td>-1001124109395</td>\n",
       "      <td>Філіал КМЦ</td>\n",
       "      <td>Group</td>\n",
       "      <td>{'user_id': 340227209, 'first_name': 'Dmytro',...</td>\n",
       "    </tr>\n",
       "    <tr>\n",
       "      <th>99</th>\n",
       "      <td>-1001124109395</td>\n",
       "      <td>Філіал КМЦ</td>\n",
       "      <td>Group</td>\n",
       "      <td>{'user_id': 655901909, 'first_name': 'Марія', ...</td>\n",
       "    </tr>\n",
       "  </tbody>\n",
       "</table>\n",
       "<p>100 rows × 4 columns</p>\n",
       "</div>"
      ],
      "text/plain": [
       "        dialog_id        name   type  \\\n",
       "0  -1001124109395  Філіал КМЦ  Group   \n",
       "1  -1001124109395  Філіал КМЦ  Group   \n",
       "2  -1001124109395  Філіал КМЦ  Group   \n",
       "3  -1001124109395  Філіал КМЦ  Group   \n",
       "4  -1001124109395  Філіал КМЦ  Group   \n",
       "..            ...         ...    ...   \n",
       "95 -1001124109395  Філіал КМЦ  Group   \n",
       "96 -1001124109395  Філіал КМЦ  Group   \n",
       "97 -1001124109395  Філіал КМЦ  Group   \n",
       "98 -1001124109395  Філіал КМЦ  Group   \n",
       "99 -1001124109395  Філіал КМЦ  Group   \n",
       "\n",
       "                                                users  \n",
       "0   {'user_id': 350500073, 'first_name': 'Пєтя кн-...  \n",
       "1   {'user_id': 346039675, 'first_name': 'Sofia', ...  \n",
       "2   {'user_id': 362602841, 'first_name': 'Даша', '...  \n",
       "3   {'user_id': 381081723, 'first_name': 'Антон', ...  \n",
       "4   {'user_id': 691654799, 'first_name': 'Іруся!',...  \n",
       "..                                                ...  \n",
       "95  {'user_id': 424033713, 'first_name': 'Sofiia',...  \n",
       "96  {'user_id': 578090273, 'first_name': 'Katherin...  \n",
       "97  {'user_id': 420470026, 'first_name': 'Никита',...  \n",
       "98  {'user_id': 340227209, 'first_name': 'Dmytro',...  \n",
       "99  {'user_id': 655901909, 'first_name': 'Марія', ...  \n",
       "\n",
       "[100 rows x 4 columns]"
      ]
     },
     "execution_count": 146,
     "metadata": {},
     "output_type": "execute_result"
    }
   ],
   "source": [
    "df2_meta.head(100)"
   ]
  },
  {
   "cell_type": "code",
   "execution_count": 147,
   "id": "186f2f67",
   "metadata": {},
   "outputs": [
    {
     "data": {
      "text/plain": [
       "type\n",
       "Channel              14\n",
       "Group             13599\n",
       "Private dialog      178\n",
       "Name: type, dtype: int64"
      ]
     },
     "execution_count": 147,
     "metadata": {},
     "output_type": "execute_result"
    }
   ],
   "source": [
    "df2_meta.groupby([\"type\"])[\"type\"].count()"
   ]
  },
  {
   "cell_type": "code",
   "execution_count": 148,
   "id": "36bc5268",
   "metadata": {},
   "outputs": [
    {
     "data": {
      "text/plain": [
       "0                 Group\n",
       "1                 Group\n",
       "2                 Group\n",
       "3                 Group\n",
       "4                 Group\n",
       "              ...      \n",
       "13786    Private dialog\n",
       "13787    Private dialog\n",
       "13788    Private dialog\n",
       "13789    Private dialog\n",
       "13790    Private dialog\n",
       "Name: type, Length: 13791, dtype: object"
      ]
     },
     "execution_count": 148,
     "metadata": {},
     "output_type": "execute_result"
    }
   ],
   "source": [
    "df2_meta[\"type\"]"
   ]
  }
 ],
 "metadata": {
  "kernelspec": {
   "display_name": "Python 3 (ipykernel)",
   "language": "python",
   "name": "python3"
  },
  "language_info": {
   "codemirror_mode": {
    "name": "ipython",
    "version": 3
   },
   "file_extension": ".py",
   "mimetype": "text/x-python",
   "name": "python",
   "nbconvert_exporter": "python",
   "pygments_lexer": "ipython3",
   "version": "3.9.12"
  }
 },
 "nbformat": 4,
 "nbformat_minor": 5
}
